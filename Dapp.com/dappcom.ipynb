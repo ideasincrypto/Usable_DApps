{
 "cells": [
  {
   "cell_type": "code",
   "execution_count": 1,
   "metadata": {},
   "outputs": [
    {
     "name": "stdout",
     "output_type": "stream",
     "text": [
      "Requirement already satisfied: pyyaml in /home/abhilash/anaconda3/lib/python3.9/site-packages (6.0)\n",
      "Collecting ua-parser\n",
      "  Downloading ua_parser-0.15.0-py2.py3-none-any.whl (37 kB)\n",
      "Collecting user-agents\n",
      "  Downloading user_agents-2.2.0-py3-none-any.whl (9.6 kB)\n",
      "Collecting fake-useragent\n",
      "  Using cached fake-useragent-0.1.11.tar.gz (13 kB)\n",
      "Building wheels for collected packages: fake-useragent\n",
      "  Building wheel for fake-useragent (setup.py) ... \u001b[?25ldone\n",
      "\u001b[?25h  Created wheel for fake-useragent: filename=fake_useragent-0.1.11-py3-none-any.whl size=13502 sha256=dd63ca84c22fe9afff06bfd8083e0e891ff47be806b491eebe4ceac382243746\n",
      "  Stored in directory: /home/abhilash/.cache/pip/wheels/ae/e7/76/7dd44644d065268ab0e1b4fa2e802fa4bb0157717b7d6c6d92\n",
      "Successfully built fake-useragent\n",
      "Installing collected packages: ua-parser, user-agents, fake-useragent\n",
      "Successfully installed fake-useragent-0.1.11 ua-parser-0.15.0 user-agents-2.2.0\n",
      "Note: you may need to restart the kernel to use updated packages.\n"
     ]
    }
   ],
   "source": [
    "pip install pyyaml ua-parser user-agents fake-useragent"
   ]
  },
  {
   "cell_type": "code",
   "execution_count": 2,
   "metadata": {},
   "outputs": [
    {
     "name": "stdout",
     "output_type": "stream",
     "text": [
      "Collecting selenium\n",
      "  Downloading selenium-4.4.0-py3-none-any.whl (985 kB)\n",
      "\u001b[K     |████████████████████████████████| 985 kB 1.4 MB/s eta 0:00:01\n",
      "\u001b[?25hCollecting trio-websocket~=0.9\n",
      "  Using cached trio_websocket-0.9.2-py3-none-any.whl (16 kB)\n",
      "Collecting trio~=0.17\n",
      "  Downloading trio-0.21.0-py3-none-any.whl (358 kB)\n",
      "\u001b[K     |████████████████████████████████| 358 kB 16.2 MB/s eta 0:00:01\n",
      "\u001b[?25hRequirement already satisfied: urllib3[secure,socks]~=1.26 in /home/abhilash/anaconda3/lib/python3.9/site-packages (from selenium) (1.26.7)\n",
      "Requirement already satisfied: sniffio in /home/abhilash/anaconda3/lib/python3.9/site-packages (from trio~=0.17->selenium) (1.2.0)\n",
      "Requirement already satisfied: attrs>=19.2.0 in /home/abhilash/anaconda3/lib/python3.9/site-packages (from trio~=0.17->selenium) (21.2.0)\n",
      "Requirement already satisfied: idna in /home/abhilash/anaconda3/lib/python3.9/site-packages (from trio~=0.17->selenium) (3.2)\n",
      "Collecting outcome\n",
      "  Downloading outcome-1.2.0-py2.py3-none-any.whl (9.7 kB)\n",
      "Requirement already satisfied: async-generator>=1.9 in /home/abhilash/anaconda3/lib/python3.9/site-packages (from trio~=0.17->selenium) (1.10)\n",
      "Requirement already satisfied: sortedcontainers in /home/abhilash/anaconda3/lib/python3.9/site-packages (from trio~=0.17->selenium) (2.4.0)\n",
      "Collecting wsproto>=0.14\n",
      "  Using cached wsproto-1.1.0-py3-none-any.whl (24 kB)\n",
      "Requirement already satisfied: PySocks!=1.5.7,<2.0,>=1.5.6 in /home/abhilash/anaconda3/lib/python3.9/site-packages (from urllib3[secure,socks]~=1.26->selenium) (1.7.1)\n",
      "Requirement already satisfied: pyOpenSSL>=0.14 in /home/abhilash/anaconda3/lib/python3.9/site-packages (from urllib3[secure,socks]~=1.26->selenium) (21.0.0)\n",
      "Requirement already satisfied: cryptography>=1.3.4 in /home/abhilash/anaconda3/lib/python3.9/site-packages (from urllib3[secure,socks]~=1.26->selenium) (3.4.8)\n",
      "Requirement already satisfied: certifi in /home/abhilash/anaconda3/lib/python3.9/site-packages (from urllib3[secure,socks]~=1.26->selenium) (2021.10.8)\n",
      "Requirement already satisfied: cffi>=1.12 in /home/abhilash/anaconda3/lib/python3.9/site-packages (from cryptography>=1.3.4->urllib3[secure,socks]~=1.26->selenium) (1.14.6)\n",
      "Requirement already satisfied: pycparser in /home/abhilash/anaconda3/lib/python3.9/site-packages (from cffi>=1.12->cryptography>=1.3.4->urllib3[secure,socks]~=1.26->selenium) (2.20)\n",
      "Requirement already satisfied: six>=1.5.2 in /home/abhilash/anaconda3/lib/python3.9/site-packages (from pyOpenSSL>=0.14->urllib3[secure,socks]~=1.26->selenium) (1.16.0)\n",
      "Collecting h11<1,>=0.9.0\n",
      "  Using cached h11-0.13.0-py3-none-any.whl (58 kB)\n",
      "Installing collected packages: outcome, h11, wsproto, trio, trio-websocket, selenium\n",
      "Successfully installed h11-0.13.0 outcome-1.2.0 selenium-4.4.0 trio-0.21.0 trio-websocket-0.9.2 wsproto-1.1.0\n",
      "Note: you may need to restart the kernel to use updated packages.\n"
     ]
    }
   ],
   "source": [
    "pip install selenium"
   ]
  },
  {
   "cell_type": "code",
   "execution_count": 3,
   "metadata": {},
   "outputs": [
    {
     "name": "stdout",
     "output_type": "stream",
     "text": [
      "Collecting webdriver_manager\n",
      "  Downloading webdriver_manager-3.8.3-py2.py3-none-any.whl (26 kB)\n",
      "Requirement already satisfied: tqdm in /home/abhilash/anaconda3/lib/python3.9/site-packages (from webdriver_manager) (4.62.3)\n",
      "Requirement already satisfied: requests in /home/abhilash/anaconda3/lib/python3.9/site-packages (from webdriver_manager) (2.26.0)\n",
      "Collecting python-dotenv\n",
      "  Using cached python_dotenv-0.20.0-py3-none-any.whl (17 kB)\n",
      "Requirement already satisfied: charset-normalizer~=2.0.0 in /home/abhilash/anaconda3/lib/python3.9/site-packages (from requests->webdriver_manager) (2.0.4)\n",
      "Requirement already satisfied: urllib3<1.27,>=1.21.1 in /home/abhilash/anaconda3/lib/python3.9/site-packages (from requests->webdriver_manager) (1.26.7)\n",
      "Requirement already satisfied: certifi>=2017.4.17 in /home/abhilash/anaconda3/lib/python3.9/site-packages (from requests->webdriver_manager) (2021.10.8)\n",
      "Requirement already satisfied: idna<4,>=2.5 in /home/abhilash/anaconda3/lib/python3.9/site-packages (from requests->webdriver_manager) (3.2)\n",
      "Installing collected packages: python-dotenv, webdriver-manager\n",
      "Successfully installed python-dotenv-0.20.0 webdriver-manager-3.8.3\n",
      "Note: you may need to restart the kernel to use updated packages.\n"
     ]
    }
   ],
   "source": [
    "pip install webdriver_manager"
   ]
  },
  {
   "cell_type": "code",
   "execution_count": 26,
   "metadata": {},
   "outputs": [],
   "source": [
    "from lxml import html\n",
    "from numpy import result_type\n",
    "from selenium import webdriver\n",
    "from selenium.webdriver import Chrome\n",
    "from selenium.webdriver.chrome.options import Options\n",
    "from selenium.webdriver.common.by import By\n",
    "from selenium.webdriver.chrome.service import Service\n",
    "from webdriver_manager.chrome import ChromeDriverManager\n",
    "from selenium.webdriver.support.ui import WebDriverWait\n",
    "from selenium.webdriver.support import expected_conditions as EC\n",
    "from selenium.webdriver.common.keys import Keys\n",
    "import time\n",
    "import re\n",
    "import threading\n",
    "import pandas as pd\n",
    "import csv\n",
    "import random\n",
    "import requests\n",
    "from fake_useragent import UserAgent\n",
    "import json\n",
    "from bs4 import BeautifulSoup"
   ]
  },
  {
   "cell_type": "code",
   "execution_count": 27,
   "metadata": {},
   "outputs": [],
   "source": [
    "user_agent='Mozilla/5.0 (X11; Linux x86_64) AppleWebKit/537.36 (KHTML, like Gecko) Chrome/96.0.4664.110 Safari/537.36'\n",
    "# options.headless = True\n",
    "options = webdriver.ChromeOptions()\n",
    "options.add_argument(f'user-agent={user_agent}')\n",
    "options.add_argument(\"--start-maximized\")"
   ]
  },
  {
   "cell_type": "code",
   "execution_count": 83,
   "metadata": {},
   "outputs": [],
   "source": [
    "driver = webdriver.Chrome(service=Service(ChromeDriverManager().install()))\n",
    "url = \"https://www.dapp.com/dapps\" \n",
    "driver.get(url)"
   ]
  },
  {
   "cell_type": "code",
   "execution_count": 84,
   "metadata": {},
   "outputs": [
    {
     "name": "stdout",
     "output_type": "stream",
     "text": [
      "0\n",
      "1\n",
      "2\n",
      "3\n",
      "4\n",
      "5\n",
      "6\n",
      "7\n",
      "8\n",
      "9\n",
      "10\n",
      "11\n",
      "12\n",
      "13\n",
      "14\n",
      "15\n",
      "16\n",
      "17\n",
      "18\n",
      "19\n",
      "20\n",
      "21\n",
      "22\n",
      "23\n",
      "24\n",
      "25\n",
      "26\n",
      "27\n",
      "28\n",
      "29\n",
      "30\n",
      "31\n",
      "32\n"
     ]
    }
   ],
   "source": [
    "#click on the view more for 50 times \n",
    "xpath_view_more = \"(.//div[@class='viewmore'])/section[@class='view-more']/svg[@viewBox=' 0 0 10 7']\"\n",
    "driver.fullscreen_window()\n",
    "\n",
    "#click on view more for 50 times \n",
    "for i in range(0,33):\n",
    "  print(i)\n",
    "  try:\n",
    "    driver.find_element(By.ID,'Dapps').click()\n",
    "    time.sleep(3)\n",
    "    \n",
    "  except:\n",
    "    print(\"over\")\n",
    "    break"
   ]
  },
  {
   "cell_type": "code",
   "execution_count": 107,
   "metadata": {},
   "outputs": [
    {
     "name": "stdout",
     "output_type": "stream",
     "text": [
      "Index(['Name', 'Link', 'Category', 'Blockchain'], dtype='object')\n"
     ]
    }
   ],
   "source": [
    "df = pd.read_csv(\"/home/abhilash/Desktop/August_scraping/Dapp.com/1st_stage_scraping.csv\")\n",
    "print(df.columns)"
   ]
  },
  {
   "cell_type": "code",
   "execution_count": 108,
   "metadata": {},
   "outputs": [],
   "source": [
    "tree = html.fromstring(driver.page_source)\n",
    "dapplist = tree.xpath(\".//div[@class='each-dapp-item']\")\n",
    "\n",
    "for i in range(len(dapplist)):\n",
    "  link_element = tree.xpath(f\"(.//div[@class='each-dapp-item']/a/@href)[{i+1}]\")[0]\n",
    "  dapp_name = tree.xpath(f\"(.//div[@class='dapp-name-text']/text())[{i+1}]\")[0]\n",
    "  dapp_category = tree.xpath(f\"(.//div[@class='column dapp-category']/text())[{i+1}]\")[0]\n",
    "  dapp_blockchain = tree.xpath(f\"(.//div[@class='column dapp-blockchain']/span/text())[{i+1}]\")[0]\n",
    "\n",
    "  df2 = {'Name':dapp_name, 'Link':link_element, 'Category': dapp_category, 'Blockchain':dapp_blockchain}\n",
    "  df = df.append(df2,ignore_index=True)\n",
    "  \n",
    "df.to_csv(\"/home/abhilash/Desktop/August_scraping/Dapp.com/1st_stage_scraping.csv\")\n",
    "    "
   ]
  },
  {
   "cell_type": "code",
   "execution_count": null,
   "metadata": {},
   "outputs": [],
   "source": []
  }
 ],
 "metadata": {
  "kernelspec": {
   "display_name": "Python 3.9.7 ('base')",
   "language": "python",
   "name": "python3"
  },
  "language_info": {
   "codemirror_mode": {
    "name": "ipython",
    "version": 3
   },
   "file_extension": ".py",
   "mimetype": "text/x-python",
   "name": "python",
   "nbconvert_exporter": "python",
   "pygments_lexer": "ipython3",
   "version": "3.9.7"
  },
  "orig_nbformat": 4,
  "vscode": {
   "interpreter": {
    "hash": "95a208b126b07924f4b9792431b19c1915fc7f0a0d204c493e1626c8af92f894"
   }
  }
 },
 "nbformat": 4,
 "nbformat_minor": 2
}
