{
 "cells": [
  {
   "cell_type": "code",
   "execution_count": 2,
   "metadata": {},
   "outputs": [],
   "source": [
    "import pandas as pd"
   ]
  },
  {
   "cell_type": "code",
   "execution_count": 3,
   "metadata": {},
   "outputs": [],
   "source": [
    "df = pd.read_csv(\"./graph_node2comm_level2_dapp_com\")"
   ]
  },
  {
   "cell_type": "code",
   "execution_count": 6,
   "metadata": {},
   "outputs": [
    {
     "name": "stdout",
     "output_type": "stream",
     "text": [
      "    0 0\n",
      "0  1 15\n",
      "1  2 12\n",
      "2  3 15\n",
      "3   4 5\n",
      "4  5 15\n",
      "Index(['0 0'], dtype='object')\n"
     ]
    }
   ],
   "source": [
    "print(df.head())\n",
    "print(df.columns)"
   ]
  },
  {
   "cell_type": "code",
   "execution_count": 24,
   "metadata": {},
   "outputs": [
    {
     "name": "stdout",
     "output_type": "stream",
     "text": [
      "There are 24 clusters\n",
      "15th cluster contains 62 nodes\n",
      "12th cluster contains 39 nodes\n",
      "5th cluster contains 36 nodes\n",
      "21\n"
     ]
    }
   ],
   "source": [
    "m = {}\n",
    "for ind,row in df.iterrows():\n",
    "  splitting = row[0].split(\" \")\n",
    "  node = int(splitting[0])\n",
    "  cluster = int(splitting[1])\n",
    "\n",
    "  if cluster not in m:\n",
    "    m[cluster] = []\n",
    "  m[cluster].append(node)\n",
    "\n",
    "\n",
    "print(\"There are \"+str(len(m))+\" clusters\")\n",
    "one_length = 0\n",
    "for i in m.keys():\n",
    "  if(len(m[i]) == 1):\n",
    "    one_length+=1\n",
    "  else:\n",
    "    print(str(i)+\"th cluster contains \"+str(len(m[i]))+\" nodes\")\n",
    "\n",
    "print(one_length)"
   ]
  },
  {
   "cell_type": "code",
   "execution_count": null,
   "metadata": {},
   "outputs": [],
   "source": []
  }
 ],
 "metadata": {
  "kernelspec": {
   "display_name": "Python 3.8.10 64-bit",
   "language": "python",
   "name": "python3"
  },
  "language_info": {
   "codemirror_mode": {
    "name": "ipython",
    "version": 3
   },
   "file_extension": ".py",
   "mimetype": "text/x-python",
   "name": "python",
   "nbconvert_exporter": "python",
   "pygments_lexer": "ipython3",
   "version": "3.8.10"
  },
  "orig_nbformat": 4,
  "vscode": {
   "interpreter": {
    "hash": "916dbcbb3f70747c44a77c7bcd40155683ae19c65e1c03b4aa3499c5328201f1"
   }
  }
 },
 "nbformat": 4,
 "nbformat_minor": 2
}
