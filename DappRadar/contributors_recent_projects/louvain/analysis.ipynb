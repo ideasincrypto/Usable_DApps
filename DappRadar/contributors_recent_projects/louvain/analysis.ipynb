{
 "cells": [
  {
   "cell_type": "code",
   "execution_count": 1,
   "metadata": {},
   "outputs": [],
   "source": [
    "import pandas as pd"
   ]
  },
  {
   "cell_type": "code",
   "execution_count": 2,
   "metadata": {},
   "outputs": [
    {
     "data": {
      "text/plain": [
       "'/home/abhilash/Desktop/August_scraping/DappRadar/contributors_recent_projects/louvain'"
      ]
     },
     "execution_count": 2,
     "metadata": {},
     "output_type": "execute_result"
    }
   ],
   "source": [
    "pwd"
   ]
  },
  {
   "cell_type": "code",
   "execution_count": 3,
   "metadata": {},
   "outputs": [],
   "source": [
    "df = pd.read_csv(\"./graph_node2comm_level2_dappradar_recent_commits\")"
   ]
  },
  {
   "cell_type": "code",
   "execution_count": 4,
   "metadata": {},
   "outputs": [
    {
     "name": "stdout",
     "output_type": "stream",
     "text": [
      "    0 0\n",
      "0   1 1\n",
      "1   2 1\n",
      "2   3 1\n",
      "3   4 1\n",
      "4  5 11\n",
      "Index(['0 0'], dtype='object')\n"
     ]
    }
   ],
   "source": [
    "print(df.head())\n",
    "print(df.columns)"
   ]
  },
  {
   "cell_type": "code",
   "execution_count": 5,
   "metadata": {},
   "outputs": [
    {
     "name": "stdout",
     "output_type": "stream",
     "text": [
      "There are 44 clusters\n",
      "1th cluster contains 117 nodes\n",
      "11th cluster contains 53 nodes\n",
      "19th cluster contains 64 nodes\n",
      "5th cluster contains 7 nodes\n",
      "42th cluster contains 2 nodes\n",
      "39 number of clusters has length 1\n"
     ]
    }
   ],
   "source": [
    "m = {}\n",
    "for ind,row in df.iterrows():\n",
    "  splitting = row[0].split(\" \")\n",
    "  node = int(splitting[0])\n",
    "  cluster = int(splitting[1])\n",
    "\n",
    "  if cluster not in m:\n",
    "    m[cluster] = []\n",
    "  m[cluster].append(node)\n",
    "\n",
    "\n",
    "print(\"There are \"+str(len(m))+\" clusters\")\n",
    "one_length = 0\n",
    "for i in m.keys():\n",
    "  if(len(m[i]) == 1):\n",
    "    one_length+=1\n",
    "  else:\n",
    "    print(str(i)+\"th cluster contains \"+str(len(m[i]))+\" nodes\")\n",
    "\n",
    "print(str(one_length)+\" number of clusters has length 1\")"
   ]
  },
  {
   "cell_type": "code",
   "execution_count": null,
   "metadata": {},
   "outputs": [],
   "source": []
  }
 ],
 "metadata": {
  "kernelspec": {
   "display_name": "Python 3.9.7 ('base')",
   "language": "python",
   "name": "python3"
  },
  "language_info": {
   "codemirror_mode": {
    "name": "ipython",
    "version": 3
   },
   "file_extension": ".py",
   "mimetype": "text/x-python",
   "name": "python",
   "nbconvert_exporter": "python",
   "pygments_lexer": "ipython3",
   "version": "3.9.7"
  },
  "orig_nbformat": 4,
  "vscode": {
   "interpreter": {
    "hash": "95a208b126b07924f4b9792431b19c1915fc7f0a0d204c493e1626c8af92f894"
   }
  }
 },
 "nbformat": 4,
 "nbformat_minor": 2
}
