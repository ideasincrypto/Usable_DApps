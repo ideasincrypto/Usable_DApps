{
 "cells": [
  {
   "cell_type": "code",
   "execution_count": 1,
   "metadata": {},
   "outputs": [],
   "source": [
    "import pandas as pd"
   ]
  },
  {
   "cell_type": "code",
   "execution_count": 2,
   "metadata": {},
   "outputs": [],
   "source": [
    "df = pd.read_csv(\"./graph_node2comm_level2_state_dapps\")"
   ]
  },
  {
   "cell_type": "code",
   "execution_count": 3,
   "metadata": {},
   "outputs": [
    {
     "name": "stdout",
     "output_type": "stream",
     "text": [
      "    0 0\n",
      "0  1 16\n",
      "1   2 3\n",
      "2   3 7\n",
      "3   4 7\n",
      "4   5 7\n",
      "Index(['0 0'], dtype='object')\n"
     ]
    }
   ],
   "source": [
    "print(df.head())\n",
    "print(df.columns)"
   ]
  },
  {
   "cell_type": "code",
   "execution_count": 7,
   "metadata": {},
   "outputs": [
    {
     "name": "stdout",
     "output_type": "stream",
     "text": [
      "There are 18 clusters\n",
      "16th cluster contains 30 nodes\n",
      "3th cluster contains 49 nodes\n",
      "7th cluster contains 32 nodes\n",
      "1th cluster contains 1 nodes\n",
      "2th cluster contains 38 nodes\n",
      "4th cluster contains 1 nodes\n",
      "5th cluster contains 1 nodes\n",
      "6th cluster contains 1 nodes\n",
      "8th cluster contains 1 nodes\n",
      "9th cluster contains 1 nodes\n",
      "10th cluster contains 1 nodes\n",
      "11th cluster contains 1 nodes\n",
      "12th cluster contains 1 nodes\n",
      "13th cluster contains 1 nodes\n",
      "14th cluster contains 1 nodes\n",
      "15th cluster contains 1 nodes\n",
      "17th cluster contains 1 nodes\n",
      "18th cluster contains 1 nodes\n",
      "number of clusters with 1 node are 14\n"
     ]
    }
   ],
   "source": [
    "m = {}\n",
    "for ind,row in df.iterrows():\n",
    "  splitting = row[0].split(\" \")\n",
    "  node = int(splitting[0])\n",
    "  cluster = int(splitting[1])\n",
    "\n",
    "  if cluster not in m:\n",
    "    m[cluster] = []\n",
    "  m[cluster].append(node)\n",
    "\n",
    "\n",
    "print(\"There are \"+str(len(m))+\" clusters\")\n",
    "one_length=0\n",
    "for i in m.keys():\n",
    "  print(str(i)+\"th cluster contains \"+str(len(m[i]))+\" nodes\")\n",
    "  if(len(m[i])==1):\n",
    "    one_length+=1\n",
    "\n",
    "print(\"number of clusters with 1 node are \"+str(one_length))\n"
   ]
  },
  {
   "cell_type": "code",
   "execution_count": null,
   "metadata": {},
   "outputs": [],
   "source": []
  }
 ],
 "metadata": {
  "kernelspec": {
   "display_name": "Python 3.8.10 64-bit",
   "language": "python",
   "name": "python3"
  },
  "language_info": {
   "codemirror_mode": {
    "name": "ipython",
    "version": 3
   },
   "file_extension": ".py",
   "mimetype": "text/x-python",
   "name": "python",
   "nbconvert_exporter": "python",
   "pygments_lexer": "ipython3",
   "version": "3.8.10"
  },
  "orig_nbformat": 4,
  "vscode": {
   "interpreter": {
    "hash": "916dbcbb3f70747c44a77c7bcd40155683ae19c65e1c03b4aa3499c5328201f1"
   }
  }
 },
 "nbformat": 4,
 "nbformat_minor": 2
}
