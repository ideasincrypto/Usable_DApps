{
 "cells": [
  {
   "cell_type": "code",
   "execution_count": 1,
   "metadata": {},
   "outputs": [],
   "source": [
    "import pandas as pd\n",
    "import shutil"
   ]
  },
  {
   "cell_type": "code",
   "execution_count": 2,
   "metadata": {},
   "outputs": [
    {
     "name": "stdout",
     "output_type": "stream",
     "text": [
      "158\n",
      "282\n",
      "603\n"
     ]
    }
   ],
   "source": [
    "df1 = pd.read_csv(\"../Dapp.com/louvain/project_id_mapping.csv\")\n",
    "df2 = pd.read_csv(\"../State_Dapps/louvain/project_id_mapping.csv\")\n",
    "df3 = pd.read_csv(\"../DappRadar/contributors_recent_projects/louvain/project_id_mapping.csv\")\n",
    "print(len(df1))\n",
    "print(len(df3))\n",
    "print(len(df1)+len(df2)+len(df3))"
   ]
  },
  {
   "cell_type": "code",
   "execution_count": 8,
   "metadata": {},
   "outputs": [],
   "source": [
    "df = []\n",
    "for ind,row in df1.iterrows():\n",
    "  if(row[\"project name\"] not in df):\n",
    "    shutil.copyfile(\"../Dapp.com/contributors/\"+str(row[\"project name\"])+\".json\",\"./contributors_recent_projects/\"+str(row[\"project name\"])+\".json\")\n",
    "    df.append(row[\"project name\"])\n",
    "\n",
    "for ind,row in df2.iterrows():\n",
    "  if(row[\"project name\"] not in df):\n",
    "    shutil.copyfile(\"../State_Dapps/contributors/\"+str(row[\"project name\"])+\".json\",\"./contributors_recent_projects/\"+str(row[\"project name\"])+\".json\")\n",
    "    df.append(row[\"project name\"])\n",
    "\n",
    "for ind,row in df3.iterrows():\n",
    "  if(row[\"project name\"] not in df):\n",
    "    shutil.copyfile(\"../DappRadar/contributors/\"+str(row[\"project name\"])+\".json\",\"./contributors_recent_projects/\"+str(row[\"project name\"])+\".json\")\n",
    "    df.append(row[\"project name\"])\n",
    "\n",
    "pd.DataFrame(df).to_csv(\"./contributors_recent_projects/all_names.csv\")"
   ]
  },
  {
   "cell_type": "code",
   "execution_count": 9,
   "metadata": {},
   "outputs": [
    {
     "name": "stdout",
     "output_type": "stream",
     "text": [
      "503\n"
     ]
    }
   ],
   "source": [
    "print(len(df))"
   ]
  },
  {
   "cell_type": "code",
   "execution_count": 11,
   "metadata": {},
   "outputs": [
    {
     "name": "stdout",
     "output_type": "stream",
     "text": [
      "   Unnamed: 0               0\n",
      "0           0      peckshield\n",
      "1           1       ZunamiLab\n",
      "2           2   VenusProtocol\n",
      "3           3  ArrakisFinance\n",
      "4           4       Bombmoney\n"
     ]
    }
   ],
   "source": [
    "df4 = pd.read_csv(\"./contributors_recent_projects/all_names.csv\")\n",
    "print(df4.head())"
   ]
  },
  {
   "cell_type": "code",
   "execution_count": null,
   "metadata": {},
   "outputs": [],
   "source": []
  }
 ],
 "metadata": {
  "kernelspec": {
   "display_name": "Python 3.9.7 ('base')",
   "language": "python",
   "name": "python3"
  },
  "language_info": {
   "codemirror_mode": {
    "name": "ipython",
    "version": 3
   },
   "file_extension": ".py",
   "mimetype": "text/x-python",
   "name": "python",
   "nbconvert_exporter": "python",
   "pygments_lexer": "ipython3",
   "version": "3.9.7"
  },
  "orig_nbformat": 4,
  "vscode": {
   "interpreter": {
    "hash": "95a208b126b07924f4b9792431b19c1915fc7f0a0d204c493e1626c8af92f894"
   }
  }
 },
 "nbformat": 4,
 "nbformat_minor": 2
}
