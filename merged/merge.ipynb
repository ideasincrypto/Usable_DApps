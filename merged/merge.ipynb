{
 "cells": [
  {
   "cell_type": "code",
   "execution_count": 6,
   "metadata": {},
   "outputs": [],
   "source": [
    "import pandas as pd\n",
    "import shutil"
   ]
  },
  {
   "cell_type": "code",
   "execution_count": 1,
   "metadata": {},
   "outputs": [
    {
     "ename": "NameError",
     "evalue": "name 'pd' is not defined",
     "output_type": "error",
     "traceback": [
      "\u001b[0;31m---------------------------------------------------------------------------\u001b[0m",
      "\u001b[0;31mNameError\u001b[0m                                 Traceback (most recent call last)",
      "\u001b[1;32m/home/abhilash/Desktop/August_scraping/merged/merge.ipynb Cell 2\u001b[0m in \u001b[0;36m<cell line: 1>\u001b[0;34m()\u001b[0m\n\u001b[0;32m----> <a href='vscode-notebook-cell:/home/abhilash/Desktop/August_scraping/merged/merge.ipynb#W1sZmlsZQ%3D%3D?line=0'>1</a>\u001b[0m df1 \u001b[39m=\u001b[39m pd\u001b[39m.\u001b[39mread_csv(\u001b[39m\"\u001b[39m\u001b[39m../Dapp.com/louvain/project_id_mapping.csv\u001b[39m\u001b[39m\"\u001b[39m)\n\u001b[1;32m      <a href='vscode-notebook-cell:/home/abhilash/Desktop/August_scraping/merged/merge.ipynb#W1sZmlsZQ%3D%3D?line=1'>2</a>\u001b[0m df2 \u001b[39m=\u001b[39m pd\u001b[39m.\u001b[39mread_csv(\u001b[39m\"\u001b[39m\u001b[39m../State_Dapps/louvain/project_id_mapping.csv\u001b[39m\u001b[39m\"\u001b[39m)\n\u001b[1;32m      <a href='vscode-notebook-cell:/home/abhilash/Desktop/August_scraping/merged/merge.ipynb#W1sZmlsZQ%3D%3D?line=2'>3</a>\u001b[0m df3 \u001b[39m=\u001b[39m pd\u001b[39m.\u001b[39mread_csv(\u001b[39m\"\u001b[39m\u001b[39m../DappRadar/contributors_recent_projects/louvain/project_id_mapping.csv\u001b[39m\u001b[39m\"\u001b[39m)\n",
      "\u001b[0;31mNameError\u001b[0m: name 'pd' is not defined"
     ]
    }
   ],
   "source": [
    "df1 = pd.read_csv(\"../Dapp.com/louvain/project_id_mapping.csv\")\n",
    "df2 = pd.read_csv(\"../State_Dapps/louvain/project_id_mapping.csv\")\n",
    "df3 = pd.read_csv(\"../DappRadar/louvain/project_id_mapping.csv\")\n",
    "print(len(df1))\n",
    "print(len(df3))\n",
    "print(len(df1)+len(df2)+len(df3))"
   ]
  },
  {
   "cell_type": "code",
   "execution_count": 17,
   "metadata": {},
   "outputs": [],
   "source": [
    "df = []\n",
    "for ind,row in df1.iterrows():\n",
    "  if(row[\"project name\"] not in df):\n",
    "    shutil.copyfile(\"../Dapp.com/contributors/\"+str(row[\"project name\"])+\".json\",\"./contributors/\"+str(row[\"project name\"])+\".json\")\n",
    "    df.append(row[\"project name\"])\n",
    "\n",
    "for ind,row in df2.iterrows():\n",
    "  if(row[\"project name\"] not in df):\n",
    "    shutil.copyfile(\"../State_Dapps/contributors/\"+str(row[\"project name\"])+\".json\",\"./contributors/\"+str(row[\"project name\"])+\".json\")\n",
    "    df.append(row[\"project name\"])\n",
    "\n",
    "for ind,row in df3.iterrows():\n",
    "  if(row[\"project name\"] not in df):\n",
    "    shutil.copyfile(\"../DappRadar/contributors/\"+str(row[\"project name\"])+\".json\",\"./contributors/\"+str(row[\"project name\"])+\".json\")\n",
    "    df.append(row[\"project name\"])\n",
    "\n",
    "pd.DataFrame(df).to_csv(\"./contributors/all_names.csv\")"
   ]
  },
  {
   "cell_type": "code",
   "execution_count": 12,
   "metadata": {},
   "outputs": [
    {
     "name": "stdout",
     "output_type": "stream",
     "text": [
      "   Unnamed: 0               0\n",
      "0           0      peckshield\n",
      "1           1       ZunamiLab\n",
      "2           2   VenusProtocol\n",
      "3           3  ArrakisFinance\n",
      "4           4       Bombmoney\n"
     ]
    }
   ],
   "source": [
    "df4 = pd.read_csv(\"./contributors/all_names.csv\")\n",
    "print(df4.head())"
   ]
  },
  {
   "cell_type": "code",
   "execution_count": null,
   "metadata": {},
   "outputs": [],
   "source": []
  }
 ],
 "metadata": {
  "kernelspec": {
   "display_name": "Python 3.8.10 64-bit",
   "language": "python",
   "name": "python3"
  },
  "language_info": {
   "codemirror_mode": {
    "name": "ipython",
    "version": 3
   },
   "file_extension": ".py",
   "mimetype": "text/x-python",
   "name": "python",
   "nbconvert_exporter": "python",
   "pygments_lexer": "ipython3",
   "version": "3.8.10"
  },
  "orig_nbformat": 4,
  "vscode": {
   "interpreter": {
    "hash": "916dbcbb3f70747c44a77c7bcd40155683ae19c65e1c03b4aa3499c5328201f1"
   }
  }
 },
 "nbformat": 4,
 "nbformat_minor": 2
}
